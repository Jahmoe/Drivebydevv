{
 "cells": [
  {
   "cell_type": "markdown",
   "metadata": {},
   "source": [
    "Import Libraries"
   ]
  },
  {
   "cell_type": "code",
   "execution_count": null,
   "metadata": {},
   "outputs": [],
   "source": [
    "# Cell 1: Import Libraries\n",
    "\n",
    "import numpy as np\n",
    "import pandas as pd\n",
    "import matplotlib.pyplot as plt\n",
    "import seaborn as sns\n",
    "\n",
    "# Machine Learning libraries\n",
    "from sklearn.model_selection import train_test_split, GridSearchCV\n",
    "from sklearn.metrics import classification_report, confusion_matrix, roc_auc_score, roc_curve\n",
    "from sklearn.ensemble import RandomForestClassifier\n",
    "import xgboost as xgb\n",
    "\n",
    "# For model explainability\n",
    "import shap\n",
    "\n",
    "# Ensure plots are displayed inline\n",
    "%matplotlib inline\n",
    "\n",
    "# Set a global random seed for reproducibility\n",
    "RANDOM_STATE = 42\n"
   ]
  },
  {
   "cell_type": "markdown",
   "metadata": {},
   "source": [
    "Load and Inspect the Dataset"
   ]
  },
  {
   "cell_type": "code",
   "execution_count": null,
   "metadata": {},
   "outputs": [],
   "source": [
    "# Cell 2: Load and Inspect the Dataset\n",
    "\n",
    "# Update the file path as necessary. For example, if your CSV is named 'loan_data.csv'\n",
    "data = pd.read_csv('loan_data.csv')\n",
    "\n",
    "# Inspect the first few rows and data summary\n",
    "print(\"Data Head:\")\n",
    "print(data.head())\n",
    "print(\"\\nData Info:\")\n",
    "print(data.info())\n"
   ]
  },
  {
   "cell_type": "markdown",
   "metadata": {},
   "source": [
    "Train-Test Split"
   ]
  },
  {
   "cell_type": "code",
   "execution_count": null,
   "metadata": {},
   "outputs": [],
   "source": [
    "# Cell 3: Data Preprocessing\n",
    "\n",
    "# -- Handle missing values\n",
    "# For production, consider more sophisticated imputation instead of dropping rows\n",
    "data = data.dropna()\n",
    "\n",
    "# -- Feature selection: Define features (X) and target (y)\n",
    "# Assuming 'Loan_Status' is the target variable; modify if necessary\n",
    "X = data.drop('Loan_Status', axis=1)\n",
    "y = data['Loan_Status']\n",
    "\n",
    "# -- Convert categorical variables into dummy/indicator variables\n",
    "# This will one-hot encode all categorical features\n",
    "X = pd.get_dummies(X, drop_first=True)\n"
   ]
  },
  {
   "cell_type": "markdown",
   "metadata": {},
   "source": [
    "Define Model Evaluation Function"
   ]
  },
  {
   "cell_type": "code",
   "execution_count": null,
   "metadata": {},
   "outputs": [],
   "source": [
    "# Cell 5: Model Evaluation Function\n",
    "\n",
    "def evaluate_model(model, X_test, y_test):\n",
    "    # Predict class labels\n",
    "    y_pred = model.predict(X_test)\n",
    "    print(\"\\nClassification Report:\")\n",
    "    print(classification_report(y_test, y_pred))\n",
    "    \n",
    "    # Predict probabilities for ROC AUC calculation\n",
    "    y_proba = model.predict_proba(X_test)[:, 1]\n",
    "    auc = roc_auc_score(y_test, y_proba)\n",
    "    print(\"ROC AUC Score: {:.4f}\".format(auc))\n",
    "    \n",
    "    # Plot the confusion matrix\n",
    "    cm = confusion_matrix(y_test, y_pred)\n",
    "    plt.figure(figsize=(6, 4))\n",
    "    sns.heatmap(cm, annot=True, fmt='d', cmap='Blues')\n",
    "    plt.xlabel(\"Predicted\")\n",
    "    plt.ylabel(\"Actual\")\n",
    "    plt.title(\"Confusion Matrix\")\n",
    "    plt.show()\n",
    "    \n",
    "    # Plot the ROC curve\n",
    "    fpr, tpr, _ = roc_curve(y_test, y_proba)\n",
    "    plt.figure(figsize=(6, 4))\n",
    "    plt.plot(fpr, tpr, label='ROC curve (AUC = {:.4f})'.format(auc))\n",
    "    plt.plot([0, 1], [0, 1], 'k--')\n",
    "    plt.xlabel(\"False Positive Rate\")\n",
    "    plt.ylabel(\"True Positive Rate\")\n",
    "    plt.title(\"ROC Curve\")\n",
    "    plt.legend(loc='lower right')\n",
    "    plt.show()\n"
   ]
  },
  {
   "cell_type": "markdown",
   "metadata": {},
   "source": [
    "Build and Evaluate the XGBoost Classifier"
   ]
  },
  {
   "cell_type": "code",
   "execution_count": null,
   "metadata": {},
   "outputs": [],
   "source": [
    "# Cell 6: Random Forest Classifier\n",
    "\n",
    "# Initialize the RandomForestClassifier\n",
    "rf = RandomForestClassifier(random_state=RANDOM_STATE)\n",
    "\n",
    "# Hyperparameter grid for RandomForest tuning\n",
    "rf_params = {\n",
    "    'n_estimators': [100, 200],\n",
    "    'max_depth': [None, 10, 20],\n",
    "    'min_samples_split': [2, 5]\n",
    "}\n",
    "\n",
    "# Apply GridSearchCV to find the best parameters\n",
    "rf_grid = GridSearchCV(rf, rf_params, cv=5, scoring='roc_auc', n_jobs=-1)\n",
    "rf_grid.fit(X_train, y_train)\n",
    "\n",
    "# Retrieve the best model\n",
    "print(\"Best parameters for RandomForest:\", rf_grid.best_params_)\n",
    "rf_best = rf_grid.best_estimator_\n",
    "\n",
    "# Evaluate the RandomForest model\n",
    "print(\"\\n--- RandomForest Evaluation ---\")\n",
    "evaluate_model(rf_best, X_test, y_test)\n"
   ]
  },
  {
   "cell_type": "markdown",
   "metadata": {},
   "source": [
    "Compare Models with ROC Curve"
   ]
  },
  {
   "cell_type": "code",
   "execution_count": null,
   "metadata": {},
   "outputs": [],
   "source": [
    "# Cell 8: Compare Models with ROC Curve\n",
    "\n",
    "# Get predicted probabilities for the positive class from both models\n",
    "rf_probs = rf_best.predict_proba(X_test)[:, 1]\n",
    "xgb_probs = xgb_best.predict_proba(X_test)[:, 1]\n",
    "\n",
    "# Compute ROC curve values for RandomForest and XGBoost\n",
    "rf_fpr, rf_tpr, _ = roc_curve(y_test, rf_probs)\n",
    "xgb_fpr, xgb_tpr, _ = roc_curve(y_test, xgb_probs)\n",
    "\n",
    "# Plot the ROC curves of both models together\n",
    "plt.figure(figsize=(8, 6))\n",
    "plt.plot(rf_fpr, rf_tpr, label='RandomForest (AUC = {:.4f})'.format(roc_auc_score(y_test, rf_probs)))\n",
    "plt.plot(xgb_fpr, xgb_tpr, label='XGBoost (AUC = {:.4f})'.format(roc_auc_score(y_test, xgb_probs)))\n",
    "plt.plot([0, 1], [0, 1], 'k--')\n",
    "plt.xlabel(\"False Positive Rate\")\n",
    "plt.ylabel(\"True Positive Rate\")\n",
    "plt.title(\"ROC Curve Comparison\")\n",
    "plt.legend()\n",
    "plt.show()\n"
   ]
  },
  {
   "cell_type": "markdown",
   "metadata": {},
   "source": [
    "SHAP Analysis for Model Explainability"
   ]
  },
  {
   "cell_type": "code",
   "execution_count": null,
   "metadata": {},
   "outputs": [],
   "source": [
    "# Cell 9: SHAP Analysis for Model Explainability\n",
    "\n",
    "# --- SHAP for RandomForest ---\n",
    "explainer_rf = shap.TreeExplainer(rf_best)\n",
    "shap_values_rf = explainer_rf.shap_values(X_test)\n",
    "\n",
    "# For binary classification, use the explanation for the positive class (index 1)\n",
    "plt.figure()\n",
    "shap.summary_plot(shap_values_rf[1], X_test, plot_type=\"bar\", show=False)\n",
    "plt.title(\"SHAP Feature Importance (RandomForest)\")\n",
    "plt.show()\n",
    "\n",
    "# --- SHAP for XGBoost ---\n",
    "explainer_xgb = shap.TreeExplainer(xgb_best)\n",
    "shap_values_xgb = explainer_xgb.shap_values(X_test)\n",
    "\n",
    "plt.figure()\n",
    "shap.summary_plot(shap_values_xgb, X_test, plot_type=\"bar\", show=False)\n",
    "plt.title(\"SHAP Feature Importance (XGBoost)\")\n",
    "plt.show()\n"
   ]
  }
 ],
 "metadata": {
  "language_info": {
   "name": "python"
  },
  "orig_nbformat": 4
 },
 "nbformat": 4,
 "nbformat_minor": 2
}
